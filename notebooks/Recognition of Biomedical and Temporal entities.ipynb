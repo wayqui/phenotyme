{
 "cells": [
  {
   "cell_type": "markdown",
   "id": "fcabe866",
   "metadata": {},
   "source": [
    "# Recognition of Biomedical and Temporal entities"
   ]
  },
  {
   "cell_type": "markdown",
   "id": "13df0a30",
   "metadata": {},
   "source": [
    "## Pre-processing stage"
   ]
  },
  {
   "cell_type": "markdown",
   "id": "d036c824",
   "metadata": {},
   "source": [
    "### Open the PDF using Fitz"
   ]
  },
  {
   "cell_type": "code",
   "execution_count": null,
   "id": "0ed850ef",
   "metadata": {},
   "outputs": [],
   "source": [
    "import fitz\n",
    "\n",
    "with fitz.open(\"17L0002_anon.pdf\") as doc:\n",
    "    text = \"\"\n",
    "    for page in doc:\n",
    "        text += page.get_text()\n",
    "        \n",
    "print(text)"
   ]
  },
  {
   "cell_type": "markdown",
   "id": "469391b4",
   "metadata": {},
   "source": [
    "### Tokenize the content of the file into senteces and words"
   ]
  },
  {
   "cell_type": "code",
   "execution_count": null,
   "id": "a51a76e4",
   "metadata": {},
   "outputs": [],
   "source": [
    "import nltk\n",
    "\n",
    "from nltk.tokenize import word_tokenize, sent_tokenize\n",
    "\n",
    "# Resource punkt not found. \n",
    "# Please use the NLTK Downloader to obtain the resource:\n",
    "nltk.download('punkt')\n",
    "\n",
    "# tokenize sentences\n",
    "sentences = sent_tokenize(text)\n",
    "sentences\n",
    "\n",
    "# tokenize sentences into words\n",
    "tokenized_sentence = [[word for word in nltk.word_tokenize(sent)] for sent in sentences]\n",
    "tokenized_sentence"
   ]
  },
  {
   "cell_type": "markdown",
   "id": "7f64be26",
   "metadata": {},
   "source": [
    "### Obtaining stop-words, punctuation marks and implementing a function to reformat incorrect date formats"
   ]
  },
  {
   "cell_type": "code",
   "execution_count": null,
   "id": "cac63981",
   "metadata": {},
   "outputs": [],
   "source": [
    "import re\n",
    "from nltk.corpus import stopwords\n",
    "from string import punctuation\n",
    "\n",
    "nltk.download('stopwords')\n",
    "\n",
    "customStopWords = set(stopwords.words('spanish') + list(punctuation))\n",
    "\n",
    "def format_word(word):\n",
    "    pattern = re.compile(r\"\\d{1,2}.\\d{1,2}.\\d{4}$\", re.IGNORECASE)\n",
    "    if (pattern.match(word)):\n",
    "        return word.replace(\".\", \"/\")\n",
    "    return word"
   ]
  },
  {
   "cell_type": "markdown",
   "id": "eea97ae7",
   "metadata": {},
   "source": [
    "### Perform the cleaning of the tokens: Remove the stop-words, the punctuation marks and change the format of dates"
   ]
  },
  {
   "cell_type": "code",
   "execution_count": null,
   "id": "270708a9",
   "metadata": {},
   "outputs": [],
   "source": [
    "tokenized_sentence = [[format_word(word) for word in nltk.word_tokenize(sent) \n",
    "                       if word not in customStopWords] \n",
    "                      for sent in sentences]\n",
    "tokenized_sentence"
   ]
  },
  {
   "cell_type": "markdown",
   "id": "cfae153a",
   "metadata": {},
   "source": [
    "## Annotate the temporal expressions"
   ]
  },
  {
   "cell_type": "markdown",
   "id": "5a8600e9",
   "metadata": {},
   "source": [
    "### Call the service to tag and normalize all temporal expressions present in the tokens"
   ]
  },
  {
   "cell_type": "code",
   "execution_count": null,
   "id": "8538b0d2",
   "metadata": {},
   "outputs": [],
   "source": [
    "import requests\n",
    "import json\n",
    "\n",
    "coreNLPApi = \"http://localhost:8080\"\n",
    "\n",
    "for sentence in tokenized_sentence:\n",
    "    singleSentence = \" \".join(word for word in sentence)\n",
    "    print(\"==> << \"+singleSentence+\" >>\")\n",
    "    query = {'text': singleSentence}\n",
    "    headers = {'Content-Type': 'application/json'}\n",
    "    response = requests.get(coreNLPApi + \"/ner\", params = query, headers = headers)\n",
    "    data = response.json()\n",
    "    print(json.dumps(data, indent=4, sort_keys=True, ensure_ascii=False))"
   ]
  }
 ],
 "metadata": {
  "kernelspec": {
   "display_name": "Python 3",
   "language": "python",
   "name": "python3"
  },
  "language_info": {
   "codemirror_mode": {
    "name": "ipython",
    "version": 3
   },
   "file_extension": ".py",
   "mimetype": "text/x-python",
   "name": "python",
   "nbconvert_exporter": "python",
   "pygments_lexer": "ipython3",
   "version": "3.8.8"
  }
 },
 "nbformat": 4,
 "nbformat_minor": 5
}
